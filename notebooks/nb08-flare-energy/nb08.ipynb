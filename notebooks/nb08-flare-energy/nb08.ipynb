{
 "cells": [
  {
   "cell_type": "markdown",
   "metadata": {},
   "source": [
    "# GETTING FLARE ENERGIES\n",
    "\n",
    "So here, as an input file, I've prepared a PDC flux with all the flares tagged as 1.\n"
   ]
  },
  {
   "cell_type": "code",
   "execution_count": 1,
   "metadata": {},
   "outputs": [
    {
     "data": {
      "text/plain": [
       "[<matplotlib.lines.Line2D at 0x7f2a5ca17590>]"
      ]
     },
     "execution_count": 1,
     "metadata": {},
     "output_type": "execute_result"
    }
   ],
   "source": [
    "import numpy as np\n",
    "from matplotlib import pyplot as plt\n",
    "from scipy.interpolate import interp1d\n",
    "from scipy.integrate import simps, quad\n",
    "from astropy.io import fits\n",
    "\n",
    "plt.style.use(\"seaborn-dark\")\n",
    "data = np.loadtxt(\"trended_lightcurve_2.out\")\n",
    "pdcflux = data[:,1]\n",
    "time = data[:,0]\n",
    "trend = data[:,2]\n",
    "flarestamps = data[:,3]\n",
    "flaretimes = time[flarestamps == 1.0]\n",
    "flareflux= pdcflux[flarestamps == 1.0]\n",
    "plt.plot(time, pdcflux,'.',alpha=0.05)\n",
    "plt.plot(flaretimes, flareflux, 'r.',alpha=0.2)"
   ]
  },
  {
   "cell_type": "markdown",
   "metadata": {},
   "source": [
    "Then define the functions we did in the previous notebook:"
   ]
  },
  {
   "cell_type": "code",
   "execution_count": 2,
   "metadata": {},
   "outputs": [],
   "source": [
    "K_B = 1.3806485e-23\n",
    "C_PLANCK = 6.62607004e-34\n",
    "C_C = 2.99792458e8\n",
    "SIGMA_SB = 5.670374419e-8\n",
    "LAMBDA_MIN = 454.06\n",
    "LAMBDA_MAX = 1129.15\n",
    "NANOMETER = 1.0e-9\n",
    "ERG = 1.0e-7\n",
    "R_SUN = 696340.0\n",
    "\n",
    "def Response_TESS():\n",
    "    \n",
    "    '''\n",
    "    Returns the TESS response curve as a function of the wavelength\n",
    "    lambd. It's a spline interpolation \n",
    "    of the TESS response function.\n",
    "    '''\n",
    "    \n",
    "    responsefile = \"tess-response-function-v1.0.csv\"\n",
    "    rs = np.genfromtxt(responsefile, delimiter=',')\n",
    "    f = interp1d(rs[:,0], rs[:,1])\n",
    "    return f\n",
    "\n",
    "R_tess = Response_TESS()\n",
    "\n",
    "def B(lambd, T):\n",
    "    \n",
    "    '''\n",
    "    The Planck distribution as a function of wavelength (in nanometers)\n",
    "    '''\n",
    "    \n",
    "    l = lambd*NANOMETER\n",
    "    denom = np.exp(C_PLANCK*C_C/(l*K_B*T)) - 1.\n",
    "    num = 2. * C_PLANCK * C_C**2. * l**(-5.)\n",
    "    return num/denom\n",
    "\n",
    "def L(lambd):\n",
    "    return B(lambd, T)*R_tess(lambd)\n",
    "\n",
    "def Lp_STAR(R_star, T_star, R_TESS):\n",
    "\n",
    "    '''\n",
    "    Incident luminosity of the star in the wavelength band\n",
    "    '''\n",
    "    \n",
    "    integrand = lambda lam : B(lam, T_star) * R_TESS(lam)\n",
    "    r = np.arange(LAMBDA_MIN,LAMBDA_MAX)\n",
    "    integr = simps(integrand(r), r)\n",
    "    \n",
    "    return np.pi * R_STAR**2 * integr\n",
    "\n",
    "def Lp_FLARE_DENSITY(T_flare, R_TESS):\n",
    "\n",
    "    '''\n",
    "    Incident luminosity density of the flare in the TESS band, divided by its\n",
    "    area\n",
    "    '''\n",
    "    \n",
    "    integrand = lambda lam : B(lam, T_flare) * R_TESS(lam)\n",
    "    r = np.arange(LAMBDA_MIN,LAMBDA_MAX)\n",
    "    integr = simps(integrand(r), r)\n",
    "    \n",
    "    return integr\n",
    "    \n",
    "    \n",
    "def A_flare(rel_amp, LpS, LpF):\n",
    "\n",
    "    '''\n",
    "    Returns the estimated effective area of the flare, given the\n",
    "    relative amplitude from the normalized lightcurve;\n",
    "    the luminosity of the star, and the luminosity of the flare per unit area\n",
    "    '''\n",
    "    \n",
    "    return rel_amp*LpS/LpF\n",
    "    \n",
    "\n",
    "def L_flare(T_flare, A_f):\n",
    "    \n",
    "    '''\n",
    "    The luminosity of the flare at a given time:\n",
    "    takes in the area of the flare and its temperature\n",
    "    '''\n",
    "    \n",
    "    return SIGMA_SB * T_flare**4. * A_f\n",
    "    \n",
    "\n",
    "def E_flare(amps, times, T_flare, LpS, LpF):\n",
    "    \n",
    "    '''\n",
    "    The energy of the flare. Takes in the amplitude,\n",
    "    and pre-calculated values for the luminosity of the \n",
    "    star and the luminosity of the flare per unit area\n",
    "    '''\n",
    "    \n",
    "    L_f = lambda amp : L_flare(T_flare, A_flare(amp, LpS, LpF)) \n",
    "    integral = simps(L_f(amps), times)\n",
    "    return integral"
   ]
  },
  {
   "cell_type": "markdown",
   "metadata": {},
   "source": [
    "Then take down some facts about EK Dra: we need its effective temperature and its radius. Use the same FITS headers as in Notebook 1."
   ]
  },
  {
   "cell_type": "code",
   "execution_count": 3,
   "metadata": {},
   "outputs": [
    {
     "name": "stdout",
     "output_type": "stream",
     "text": [
      "Radius = 0.98715699 R_o\n",
      "Temperature = 5647.0 K\n"
     ]
    }
   ],
   "source": [
    "hdul = fits.open('tess2019226182529-s0015-0000000159613900-0151-s_lc.fits')\n",
    "hdr0 = hdul[0].header\n",
    "print(\"Radius = \"+str(hdr0['RADIUS'])+\" R_o\")\n",
    "print(\"Temperature = \"+str(hdr0['TEFF'])+\" K\")\n",
    "T_STAR = hdr0['TEFF']\n",
    "R_STAR = hdr0['RADIUS']*R_SUN\n",
    "T_FLARE = 9000.0\n",
    "LpS = Lp_STAR(R_STAR,T_STAR,R_tess)\n",
    "LpF = Lp_FLARE_DENSITY(T_FLARE,R_tess)\n",
    "hdul.close()"
   ]
  },
  {
   "cell_type": "code",
   "execution_count": 4,
   "metadata": {},
   "outputs": [
    {
     "data": {
      "text/plain": [
       "[<matplotlib.lines.Line2D at 0x7f2a5c90b7d0>]"
      ]
     },
     "execution_count": 4,
     "metadata": {},
     "output_type": "execute_result"
    },
    {
     "data": {
      "image/png": "[encoded data removed]",
      "text/plain": [
       "<Figure size 432x288 with 1 Axes>"
      ]
     },
     "metadata": {
      "needs_background": "light"
     },
     "output_type": "display_data"
    }
   ],
   "source": [
    "plt.plot(time,pdcflux-trend,\"b.\",alpha=0.1)\n",
    "plt.plot(flaretimes, flareflux-trend[flarestamps==1.0], 'r.')"
   ]
  },
  {
   "cell_type": "code",
   "execution_count": 5,
   "metadata": {},
   "outputs": [
    {
     "name": "stdout",
     "output_type": "stream",
     "text": [
      "2.40e+23 erg, time: 1711.5\n",
      "1.40e+22 erg, time: 1718.5\n",
      "1.47e+22 erg, time: 1720.2\n",
      "1.08e+23 erg, time: 1722.9\n",
      "1.42e+22 erg, time: 1727.3\n",
      "1.13e+23 erg, time: 1727.5\n",
      "1.27e+23 erg, time: 1732.0\n",
      "1.01e+23 erg, time: 1736.3\n"
     ]
    }
   ],
   "source": [
    "flare_energies = []\n",
    "flare_times = []\n",
    "in_flare = False\n",
    "flare_dur = 0\n",
    "pdcflux_ratio = (pdcflux-trend)/trend\n",
    "for i in range(len(pdcflux)):\n",
    "    if flarestamps[i] == 1:\n",
    "        in_flare = True\n",
    "        flare_dur += 1\n",
    "    elif in_flare:\n",
    "        amps = pdcflux_ratio[i-flare_dur : i]\n",
    "        ts = time[i-flare_dur : i]\n",
    "        Ef = E_flare(amps, ts, T_FLARE, LpS, LpF)\n",
    "        flare_energies.append(Ef/ERG)\n",
    "        flare_times.append(time[i-flare_dur])\n",
    "        in_flare = False\n",
    "        flare_dur = 0\n",
    "\n",
    "for i in range(len(flare_energies)):\n",
    "    print(\"{:.2e} erg, time: {:.1f}\".format(flare_energies[i], flare_times[i]))"
   ]
  },
  {
   "cell_type": "markdown",
   "metadata": {},
   "source": [
    "Still needs work - the flare intensities are not in a good order of magnitude. In particular there is one flare towards the end with a massive area under it, but does not get adequately described by the flare candidate tagger."
   ]
  },
  {
   "cell_type": "code",
   "execution_count": null,
   "metadata": {},
   "outputs": [],
   "source": []
  }
 ],
 "metadata": {
  "kernelspec": {
   "display_name": "Python 3",
   "language": "python",
   "name": "python3"
  },
  "language_info": {
   "codemirror_mode": {
    "name": "ipython",
    "version": 3
   },
   "file_extension": ".py",
   "mimetype": "text/x-python",
   "name": "python",
   "nbconvert_exporter": "python",
   "pygments_lexer": "ipython3",
   "version": "3.7.4"
  }
 },
 "nbformat": 4,
 "nbformat_minor": 4
}
