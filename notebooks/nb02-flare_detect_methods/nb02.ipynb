{
 "cells": [
  {
   "cell_type": "markdown",
   "metadata": {
    "slideshow": {
     "slide_type": "-"
    }
   },
   "source": [
    "# Methods for detecting flares"
   ]
  },
  {
   "cell_type": "markdown",
   "metadata": {
    "slideshow": {
     "slide_type": "-"
    }
   },
   "source": [
    "(March 02)\n",
    "\n",
    "Detecting flares from periodic star signals is fuzzy business. We want to be able to notice a specific kind of a random signal of a roughly known shape, from the background of a slowly varying periodic signal that we might not fully know. On top of this, the data can be quite noisy.\n",
    "\n",
    "A flare should look like a sudden spike in the flux, followed by an exponential decay. A clean lightcurve containing a few flares might look like this:"
   ]
  },
  {
   "cell_type": "markdown",
   "metadata": {},
   "source": [
    "![Alt text](1-s2.0-S0275106217300097-gr1.jpg \"Particularly clean data\")\n",
    "\n",
    "(Duo & al, https://doi.org/10.1016/j.chinastron.2017.01.002)"
   ]
  },
  {
   "cell_type": "markdown",
   "metadata": {},
   "source": [
    "(March 03)\n",
    "\n",
    "### Maehara & al 2012 \n",
    "\n",
    "([doi:10.1038/nature11063](https://www.nature.com/articles/nature11063#Sec2), Supplementary material) uses a technique where the differences between each pair of consecutive datapoints is recorded. This distribution is analyzed to find the 1st percentile of the data. Then, 3 times the 1st percentile (typically 0.1% the brightness of the star) is the threshold for picking up a superflare -> about 10 times more energy than the most energetic solar flares observed.\n",
    "\n",
    "Then, the technique removes the \"long-term brightness variation\" from the flare signal -> estimate the duration of the flare. The flare end time is when the excess flux falls below the threshold again; if it ends too early, there are too few datapoints.\n",
    "\n",
    "The first part of the technique is something that we can do quite easily, but the second part leaves some open questions:\n",
    "\n",
    "- how do we define \"long-term brightness variation\"?\n",
    "\n",
    "- how do we remove it?\n",
    "\n",
    "I'll try figuring this out in the third notebook.\n"
   ]
  },
  {
   "cell_type": "markdown",
   "metadata": {},
   "source": [
    "(March 06)\n",
    "\n",
    "### My idea\n",
    "\n",
    "I got the idea that you could analyze flares by just looking at the linear (or polynomial) trend T0 in a rolling ~30-50 sample window. In the window, you would also look at a shorter 2-5 sample trend T. If T is sufficiently steep compared to T0, you would register that as a flare."
   ]
  },
  {
   "cell_type": "code",
   "execution_count": null,
   "metadata": {},
   "outputs": [],
   "source": []
  }
 ],
 "metadata": {
  "kernelspec": {
   "display_name": "Python 3",
   "language": "python",
   "name": "python3"
  },
  "language_info": {
   "codemirror_mode": {
    "name": "ipython",
    "version": 3
   },
   "file_extension": ".py",
   "mimetype": "text/x-python",
   "name": "python",
   "nbconvert_exporter": "python",
   "pygments_lexer": "ipython3",
   "version": "3.7.4"
  }
 },
 "nbformat": 4,
 "nbformat_minor": 2
}
