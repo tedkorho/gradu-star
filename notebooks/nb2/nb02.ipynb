{
 "cells": [
  {
   "cell_type": "markdown",
   "metadata": {
    "slideshow": {
     "slide_type": "-"
    }
   },
   "source": [
    "# Methods for detecting flares"
   ]
  },
  {
   "cell_type": "markdown",
   "metadata": {
    "slideshow": {
     "slide_type": "-"
    }
   },
   "source": [
    "(March 02)\n",
    "\n",
    "Detecting flares from periodic star signals is fuzzy business. We want to be able to notice a specific kind of a random signal of a roughly known shape, from the background of a slowly varying periodic signal that we might not fully know. On top of this, the data can be quite noisy.\n",
    "\n",
    "A flare should look like a sudden spike in the flux, followed by an exponential decay. A clean lightcurve containing a few flares might look like this:"
   ]
  },
  {
   "cell_type": "markdown",
   "metadata": {},
   "source": [
    "![Alt text](1-s2.0-S0275106217300097-gr1.jpg \"Particularly clean data\")\n",
    "\n",
    "(Duo & al, https://doi.org/10.1016/j.chinastron.2017.01.002)"
   ]
  },
  {
   "cell_type": "code",
   "execution_count": null,
   "metadata": {},
   "outputs": [],
   "source": []
  }
 ],
 "metadata": {
  "kernelspec": {
   "display_name": "Python 3",
   "language": "python",
   "name": "python3"
  },
  "language_info": {
   "codemirror_mode": {
    "name": "ipython",
    "version": 3
   },
   "file_extension": ".py",
   "mimetype": "text/x-python",
   "name": "python",
   "nbconvert_exporter": "python",
   "pygments_lexer": "ipython3",
   "version": "3.7.5"
  }
 },
 "nbformat": 4,
 "nbformat_minor": 2
}
